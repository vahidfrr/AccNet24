#import packages
import numpy as np
import pandas as pd 
import os

import matplotlib.pyplot as plt
from pyts.image import GramianAngularField


##read annotations
anno_label_dict = pd.read_csv('annotation-label-dictionary.csv',
                              index_col='annotation', dtype='string')
os.chdir ('data')


#for windoing the signal
def extract_windows(data, winsize='30s'):
    X, Y = [], []
    for t, w in data.resample(winsize, origin='start'):

        # Check window has no NaNs and is of correct length
        # 10s @ 100Hz = 1000 ticks
        if w.isna().any().any() or len(w) != 3000:
            continue

        x = w[['x', 'y', 'z']].to_numpy()
        y = w['label'].mode(dropna=False).item()
    
        X.append(x)
        Y.append(y)

    X = np.stack(X)
    Y = np.stack(Y)

    return X, Y
